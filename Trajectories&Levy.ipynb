{
  "nbformat": 4,
  "nbformat_minor": 0,
  "metadata": {
    "colab": {
      "name": "Trajectories&Levy.ipynb",
      "provenance": [],
      "authorship_tag": "ABX9TyOBQdWgugPnCsIBD9HTgw9a",
      "include_colab_link": true
    },
    "kernelspec": {
      "name": "python3",
      "display_name": "Python 3"
    },
    "widgets": {
      "application/vnd.jupyter.widget-state+json": {
        "fadca3daca6b44a796b24e6d0728177a": {
          "model_module": "@jupyter-widgets/controls",
          "model_name": "HBoxModel",
          "state": {
            "_view_name": "HBoxView",
            "_dom_classes": [],
            "_model_name": "HBoxModel",
            "_view_module": "@jupyter-widgets/controls",
            "_model_module_version": "1.5.0",
            "_view_count": null,
            "_view_module_version": "1.5.0",
            "box_style": "",
            "layout": "IPY_MODEL_d8511b65df66497eb7566ad74276cbce",
            "_model_module": "@jupyter-widgets/controls",
            "children": [
              "IPY_MODEL_22475db92f2f49c0b425e478116c9ac0",
              "IPY_MODEL_cc55339d824e422c85850004ff90ddd1"
            ]
          }
        },
        "d8511b65df66497eb7566ad74276cbce": {
          "model_module": "@jupyter-widgets/base",
          "model_name": "LayoutModel",
          "state": {
            "_view_name": "LayoutView",
            "grid_template_rows": null,
            "right": null,
            "justify_content": null,
            "_view_module": "@jupyter-widgets/base",
            "overflow": null,
            "_model_module_version": "1.2.0",
            "_view_count": null,
            "flex_flow": null,
            "width": null,
            "min_width": null,
            "border": null,
            "align_items": null,
            "bottom": null,
            "_model_module": "@jupyter-widgets/base",
            "top": null,
            "grid_column": null,
            "overflow_y": null,
            "overflow_x": null,
            "grid_auto_flow": null,
            "grid_area": null,
            "grid_template_columns": null,
            "flex": null,
            "_model_name": "LayoutModel",
            "justify_items": null,
            "grid_row": null,
            "max_height": null,
            "align_content": null,
            "visibility": null,
            "align_self": null,
            "height": null,
            "min_height": null,
            "padding": null,
            "grid_auto_rows": null,
            "grid_gap": null,
            "max_width": null,
            "order": null,
            "_view_module_version": "1.2.0",
            "grid_template_areas": null,
            "object_position": null,
            "object_fit": null,
            "grid_auto_columns": null,
            "margin": null,
            "display": null,
            "left": null
          }
        },
        "22475db92f2f49c0b425e478116c9ac0": {
          "model_module": "@jupyter-widgets/controls",
          "model_name": "FloatProgressModel",
          "state": {
            "_view_name": "ProgressView",
            "style": "IPY_MODEL_317303da81724c308b72f167ed6de2bb",
            "_dom_classes": [],
            "description": "100%",
            "_model_name": "FloatProgressModel",
            "bar_style": "success",
            "max": 199,
            "_view_module": "@jupyter-widgets/controls",
            "_model_module_version": "1.5.0",
            "value": 199,
            "_view_count": null,
            "_view_module_version": "1.5.0",
            "orientation": "horizontal",
            "min": 0,
            "description_tooltip": null,
            "_model_module": "@jupyter-widgets/controls",
            "layout": "IPY_MODEL_39e1b03acbbd4093b4e9bbc7d8016924"
          }
        },
        "cc55339d824e422c85850004ff90ddd1": {
          "model_module": "@jupyter-widgets/controls",
          "model_name": "HTMLModel",
          "state": {
            "_view_name": "HTMLView",
            "style": "IPY_MODEL_b378429a73924667bdd5ae348fb8ecb9",
            "_dom_classes": [],
            "description": "",
            "_model_name": "HTMLModel",
            "placeholder": "​",
            "_view_module": "@jupyter-widgets/controls",
            "_model_module_version": "1.5.0",
            "value": " 199/199 [01:15&lt;00:00,  2.64it/s]",
            "_view_count": null,
            "_view_module_version": "1.5.0",
            "description_tooltip": null,
            "_model_module": "@jupyter-widgets/controls",
            "layout": "IPY_MODEL_b80e6990bcdd471b9f8f0f601c73aa43"
          }
        },
        "317303da81724c308b72f167ed6de2bb": {
          "model_module": "@jupyter-widgets/controls",
          "model_name": "ProgressStyleModel",
          "state": {
            "_view_name": "StyleView",
            "_model_name": "ProgressStyleModel",
            "description_width": "initial",
            "_view_module": "@jupyter-widgets/base",
            "_model_module_version": "1.5.0",
            "_view_count": null,
            "_view_module_version": "1.2.0",
            "bar_color": null,
            "_model_module": "@jupyter-widgets/controls"
          }
        },
        "39e1b03acbbd4093b4e9bbc7d8016924": {
          "model_module": "@jupyter-widgets/base",
          "model_name": "LayoutModel",
          "state": {
            "_view_name": "LayoutView",
            "grid_template_rows": null,
            "right": null,
            "justify_content": null,
            "_view_module": "@jupyter-widgets/base",
            "overflow": null,
            "_model_module_version": "1.2.0",
            "_view_count": null,
            "flex_flow": null,
            "width": null,
            "min_width": null,
            "border": null,
            "align_items": null,
            "bottom": null,
            "_model_module": "@jupyter-widgets/base",
            "top": null,
            "grid_column": null,
            "overflow_y": null,
            "overflow_x": null,
            "grid_auto_flow": null,
            "grid_area": null,
            "grid_template_columns": null,
            "flex": null,
            "_model_name": "LayoutModel",
            "justify_items": null,
            "grid_row": null,
            "max_height": null,
            "align_content": null,
            "visibility": null,
            "align_self": null,
            "height": null,
            "min_height": null,
            "padding": null,
            "grid_auto_rows": null,
            "grid_gap": null,
            "max_width": null,
            "order": null,
            "_view_module_version": "1.2.0",
            "grid_template_areas": null,
            "object_position": null,
            "object_fit": null,
            "grid_auto_columns": null,
            "margin": null,
            "display": null,
            "left": null
          }
        },
        "b378429a73924667bdd5ae348fb8ecb9": {
          "model_module": "@jupyter-widgets/controls",
          "model_name": "DescriptionStyleModel",
          "state": {
            "_view_name": "StyleView",
            "_model_name": "DescriptionStyleModel",
            "description_width": "",
            "_view_module": "@jupyter-widgets/base",
            "_model_module_version": "1.5.0",
            "_view_count": null,
            "_view_module_version": "1.2.0",
            "_model_module": "@jupyter-widgets/controls"
          }
        },
        "b80e6990bcdd471b9f8f0f601c73aa43": {
          "model_module": "@jupyter-widgets/base",
          "model_name": "LayoutModel",
          "state": {
            "_view_name": "LayoutView",
            "grid_template_rows": null,
            "right": null,
            "justify_content": null,
            "_view_module": "@jupyter-widgets/base",
            "overflow": null,
            "_model_module_version": "1.2.0",
            "_view_count": null,
            "flex_flow": null,
            "width": null,
            "min_width": null,
            "border": null,
            "align_items": null,
            "bottom": null,
            "_model_module": "@jupyter-widgets/base",
            "top": null,
            "grid_column": null,
            "overflow_y": null,
            "overflow_x": null,
            "grid_auto_flow": null,
            "grid_area": null,
            "grid_template_columns": null,
            "flex": null,
            "_model_name": "LayoutModel",
            "justify_items": null,
            "grid_row": null,
            "max_height": null,
            "align_content": null,
            "visibility": null,
            "align_self": null,
            "height": null,
            "min_height": null,
            "padding": null,
            "grid_auto_rows": null,
            "grid_gap": null,
            "max_width": null,
            "order": null,
            "_view_module_version": "1.2.0",
            "grid_template_areas": null,
            "object_position": null,
            "object_fit": null,
            "grid_auto_columns": null,
            "margin": null,
            "display": null,
            "left": null
          }
        },
        "4ba7daa0712e4d4380b4ba1d2d7daccc": {
          "model_module": "@jupyter-widgets/controls",
          "model_name": "HBoxModel",
          "state": {
            "_view_name": "HBoxView",
            "_dom_classes": [],
            "_model_name": "HBoxModel",
            "_view_module": "@jupyter-widgets/controls",
            "_model_module_version": "1.5.0",
            "_view_count": null,
            "_view_module_version": "1.5.0",
            "box_style": "",
            "layout": "IPY_MODEL_56c86608daab461da11983bac65f1cb7",
            "_model_module": "@jupyter-widgets/controls",
            "children": [
              "IPY_MODEL_11d7c80bd863473fac0a0397fd39c082",
              "IPY_MODEL_2716c68ad8f041419a5e3ec47933b007"
            ]
          }
        },
        "56c86608daab461da11983bac65f1cb7": {
          "model_module": "@jupyter-widgets/base",
          "model_name": "LayoutModel",
          "state": {
            "_view_name": "LayoutView",
            "grid_template_rows": null,
            "right": null,
            "justify_content": null,
            "_view_module": "@jupyter-widgets/base",
            "overflow": null,
            "_model_module_version": "1.2.0",
            "_view_count": null,
            "flex_flow": null,
            "width": null,
            "min_width": null,
            "border": null,
            "align_items": null,
            "bottom": null,
            "_model_module": "@jupyter-widgets/base",
            "top": null,
            "grid_column": null,
            "overflow_y": null,
            "overflow_x": null,
            "grid_auto_flow": null,
            "grid_area": null,
            "grid_template_columns": null,
            "flex": null,
            "_model_name": "LayoutModel",
            "justify_items": null,
            "grid_row": null,
            "max_height": null,
            "align_content": null,
            "visibility": null,
            "align_self": null,
            "height": null,
            "min_height": null,
            "padding": null,
            "grid_auto_rows": null,
            "grid_gap": null,
            "max_width": null,
            "order": null,
            "_view_module_version": "1.2.0",
            "grid_template_areas": null,
            "object_position": null,
            "object_fit": null,
            "grid_auto_columns": null,
            "margin": null,
            "display": null,
            "left": null
          }
        },
        "11d7c80bd863473fac0a0397fd39c082": {
          "model_module": "@jupyter-widgets/controls",
          "model_name": "FloatProgressModel",
          "state": {
            "_view_name": "ProgressView",
            "style": "IPY_MODEL_80ade2c7a90343c18a6309e61de2f516",
            "_dom_classes": [],
            "description": "100%",
            "_model_name": "FloatProgressModel",
            "bar_style": "success",
            "max": 14,
            "_view_module": "@jupyter-widgets/controls",
            "_model_module_version": "1.5.0",
            "value": 14,
            "_view_count": null,
            "_view_module_version": "1.5.0",
            "orientation": "horizontal",
            "min": 0,
            "description_tooltip": null,
            "_model_module": "@jupyter-widgets/controls",
            "layout": "IPY_MODEL_3d87a21c0da0482baed8560151c4aa5f"
          }
        },
        "2716c68ad8f041419a5e3ec47933b007": {
          "model_module": "@jupyter-widgets/controls",
          "model_name": "HTMLModel",
          "state": {
            "_view_name": "HTMLView",
            "style": "IPY_MODEL_5648f586a0da4476b1e16caf72c8f837",
            "_dom_classes": [],
            "description": "",
            "_model_name": "HTMLModel",
            "placeholder": "​",
            "_view_module": "@jupyter-widgets/controls",
            "_model_module_version": "1.5.0",
            "value": " 14/14 [00:14&lt;00:00,  1.06s/it]",
            "_view_count": null,
            "_view_module_version": "1.5.0",
            "description_tooltip": null,
            "_model_module": "@jupyter-widgets/controls",
            "layout": "IPY_MODEL_fca052343fb24ae8aaba7b0b42d0f857"
          }
        },
        "80ade2c7a90343c18a6309e61de2f516": {
          "model_module": "@jupyter-widgets/controls",
          "model_name": "ProgressStyleModel",
          "state": {
            "_view_name": "StyleView",
            "_model_name": "ProgressStyleModel",
            "description_width": "initial",
            "_view_module": "@jupyter-widgets/base",
            "_model_module_version": "1.5.0",
            "_view_count": null,
            "_view_module_version": "1.2.0",
            "bar_color": null,
            "_model_module": "@jupyter-widgets/controls"
          }
        },
        "3d87a21c0da0482baed8560151c4aa5f": {
          "model_module": "@jupyter-widgets/base",
          "model_name": "LayoutModel",
          "state": {
            "_view_name": "LayoutView",
            "grid_template_rows": null,
            "right": null,
            "justify_content": null,
            "_view_module": "@jupyter-widgets/base",
            "overflow": null,
            "_model_module_version": "1.2.0",
            "_view_count": null,
            "flex_flow": null,
            "width": null,
            "min_width": null,
            "border": null,
            "align_items": null,
            "bottom": null,
            "_model_module": "@jupyter-widgets/base",
            "top": null,
            "grid_column": null,
            "overflow_y": null,
            "overflow_x": null,
            "grid_auto_flow": null,
            "grid_area": null,
            "grid_template_columns": null,
            "flex": null,
            "_model_name": "LayoutModel",
            "justify_items": null,
            "grid_row": null,
            "max_height": null,
            "align_content": null,
            "visibility": null,
            "align_self": null,
            "height": null,
            "min_height": null,
            "padding": null,
            "grid_auto_rows": null,
            "grid_gap": null,
            "max_width": null,
            "order": null,
            "_view_module_version": "1.2.0",
            "grid_template_areas": null,
            "object_position": null,
            "object_fit": null,
            "grid_auto_columns": null,
            "margin": null,
            "display": null,
            "left": null
          }
        },
        "5648f586a0da4476b1e16caf72c8f837": {
          "model_module": "@jupyter-widgets/controls",
          "model_name": "DescriptionStyleModel",
          "state": {
            "_view_name": "StyleView",
            "_model_name": "DescriptionStyleModel",
            "description_width": "",
            "_view_module": "@jupyter-widgets/base",
            "_model_module_version": "1.5.0",
            "_view_count": null,
            "_view_module_version": "1.2.0",
            "_model_module": "@jupyter-widgets/controls"
          }
        },
        "fca052343fb24ae8aaba7b0b42d0f857": {
          "model_module": "@jupyter-widgets/base",
          "model_name": "LayoutModel",
          "state": {
            "_view_name": "LayoutView",
            "grid_template_rows": null,
            "right": null,
            "justify_content": null,
            "_view_module": "@jupyter-widgets/base",
            "overflow": null,
            "_model_module_version": "1.2.0",
            "_view_count": null,
            "flex_flow": null,
            "width": null,
            "min_width": null,
            "border": null,
            "align_items": null,
            "bottom": null,
            "_model_module": "@jupyter-widgets/base",
            "top": null,
            "grid_column": null,
            "overflow_y": null,
            "overflow_x": null,
            "grid_auto_flow": null,
            "grid_area": null,
            "grid_template_columns": null,
            "flex": null,
            "_model_name": "LayoutModel",
            "justify_items": null,
            "grid_row": null,
            "max_height": null,
            "align_content": null,
            "visibility": null,
            "align_self": null,
            "height": null,
            "min_height": null,
            "padding": null,
            "grid_auto_rows": null,
            "grid_gap": null,
            "max_width": null,
            "order": null,
            "_view_module_version": "1.2.0",
            "grid_template_areas": null,
            "object_position": null,
            "object_fit": null,
            "grid_auto_columns": null,
            "margin": null,
            "display": null,
            "left": null
          }
        },
        "46b1c5b83b68443686d143c334af85ed": {
          "model_module": "@jupyter-widgets/controls",
          "model_name": "HBoxModel",
          "state": {
            "_view_name": "HBoxView",
            "_dom_classes": [],
            "_model_name": "HBoxModel",
            "_view_module": "@jupyter-widgets/controls",
            "_model_module_version": "1.5.0",
            "_view_count": null,
            "_view_module_version": "1.5.0",
            "box_style": "",
            "layout": "IPY_MODEL_c394965951e343b3b8a99b93d1c98e2b",
            "_model_module": "@jupyter-widgets/controls",
            "children": [
              "IPY_MODEL_484f211d639a406eb0bd5856994dad42",
              "IPY_MODEL_7f5b76ba50e440b29bdd61aaf99a69f3"
            ]
          }
        },
        "c394965951e343b3b8a99b93d1c98e2b": {
          "model_module": "@jupyter-widgets/base",
          "model_name": "LayoutModel",
          "state": {
            "_view_name": "LayoutView",
            "grid_template_rows": null,
            "right": null,
            "justify_content": null,
            "_view_module": "@jupyter-widgets/base",
            "overflow": null,
            "_model_module_version": "1.2.0",
            "_view_count": null,
            "flex_flow": null,
            "width": null,
            "min_width": null,
            "border": null,
            "align_items": null,
            "bottom": null,
            "_model_module": "@jupyter-widgets/base",
            "top": null,
            "grid_column": null,
            "overflow_y": null,
            "overflow_x": null,
            "grid_auto_flow": null,
            "grid_area": null,
            "grid_template_columns": null,
            "flex": null,
            "_model_name": "LayoutModel",
            "justify_items": null,
            "grid_row": null,
            "max_height": null,
            "align_content": null,
            "visibility": null,
            "align_self": null,
            "height": null,
            "min_height": null,
            "padding": null,
            "grid_auto_rows": null,
            "grid_gap": null,
            "max_width": null,
            "order": null,
            "_view_module_version": "1.2.0",
            "grid_template_areas": null,
            "object_position": null,
            "object_fit": null,
            "grid_auto_columns": null,
            "margin": null,
            "display": null,
            "left": null
          }
        },
        "484f211d639a406eb0bd5856994dad42": {
          "model_module": "@jupyter-widgets/controls",
          "model_name": "FloatProgressModel",
          "state": {
            "_view_name": "ProgressView",
            "style": "IPY_MODEL_2baaa5e7a3684071be434b8c28125207",
            "_dom_classes": [],
            "description": "100%",
            "_model_name": "FloatProgressModel",
            "bar_style": "success",
            "max": 19,
            "_view_module": "@jupyter-widgets/controls",
            "_model_module_version": "1.5.0",
            "value": 19,
            "_view_count": null,
            "_view_module_version": "1.5.0",
            "orientation": "horizontal",
            "min": 0,
            "description_tooltip": null,
            "_model_module": "@jupyter-widgets/controls",
            "layout": "IPY_MODEL_7bdd6a8c208b46b9ae454eb5d76bdb42"
          }
        },
        "7f5b76ba50e440b29bdd61aaf99a69f3": {
          "model_module": "@jupyter-widgets/controls",
          "model_name": "HTMLModel",
          "state": {
            "_view_name": "HTMLView",
            "style": "IPY_MODEL_c024e124116447879dcdba223f4a5271",
            "_dom_classes": [],
            "description": "",
            "_model_name": "HTMLModel",
            "placeholder": "​",
            "_view_module": "@jupyter-widgets/controls",
            "_model_module_version": "1.5.0",
            "value": " 19/19 [00:01&lt;00:00,  9.83it/s]",
            "_view_count": null,
            "_view_module_version": "1.5.0",
            "description_tooltip": null,
            "_model_module": "@jupyter-widgets/controls",
            "layout": "IPY_MODEL_27ac1b585b7745f8a17d3d835e4a232c"
          }
        },
        "2baaa5e7a3684071be434b8c28125207": {
          "model_module": "@jupyter-widgets/controls",
          "model_name": "ProgressStyleModel",
          "state": {
            "_view_name": "StyleView",
            "_model_name": "ProgressStyleModel",
            "description_width": "initial",
            "_view_module": "@jupyter-widgets/base",
            "_model_module_version": "1.5.0",
            "_view_count": null,
            "_view_module_version": "1.2.0",
            "bar_color": null,
            "_model_module": "@jupyter-widgets/controls"
          }
        },
        "7bdd6a8c208b46b9ae454eb5d76bdb42": {
          "model_module": "@jupyter-widgets/base",
          "model_name": "LayoutModel",
          "state": {
            "_view_name": "LayoutView",
            "grid_template_rows": null,
            "right": null,
            "justify_content": null,
            "_view_module": "@jupyter-widgets/base",
            "overflow": null,
            "_model_module_version": "1.2.0",
            "_view_count": null,
            "flex_flow": null,
            "width": null,
            "min_width": null,
            "border": null,
            "align_items": null,
            "bottom": null,
            "_model_module": "@jupyter-widgets/base",
            "top": null,
            "grid_column": null,
            "overflow_y": null,
            "overflow_x": null,
            "grid_auto_flow": null,
            "grid_area": null,
            "grid_template_columns": null,
            "flex": null,
            "_model_name": "LayoutModel",
            "justify_items": null,
            "grid_row": null,
            "max_height": null,
            "align_content": null,
            "visibility": null,
            "align_self": null,
            "height": null,
            "min_height": null,
            "padding": null,
            "grid_auto_rows": null,
            "grid_gap": null,
            "max_width": null,
            "order": null,
            "_view_module_version": "1.2.0",
            "grid_template_areas": null,
            "object_position": null,
            "object_fit": null,
            "grid_auto_columns": null,
            "margin": null,
            "display": null,
            "left": null
          }
        },
        "c024e124116447879dcdba223f4a5271": {
          "model_module": "@jupyter-widgets/controls",
          "model_name": "DescriptionStyleModel",
          "state": {
            "_view_name": "StyleView",
            "_model_name": "DescriptionStyleModel",
            "description_width": "",
            "_view_module": "@jupyter-widgets/base",
            "_model_module_version": "1.5.0",
            "_view_count": null,
            "_view_module_version": "1.2.0",
            "_model_module": "@jupyter-widgets/controls"
          }
        },
        "27ac1b585b7745f8a17d3d835e4a232c": {
          "model_module": "@jupyter-widgets/base",
          "model_name": "LayoutModel",
          "state": {
            "_view_name": "LayoutView",
            "grid_template_rows": null,
            "right": null,
            "justify_content": null,
            "_view_module": "@jupyter-widgets/base",
            "overflow": null,
            "_model_module_version": "1.2.0",
            "_view_count": null,
            "flex_flow": null,
            "width": null,
            "min_width": null,
            "border": null,
            "align_items": null,
            "bottom": null,
            "_model_module": "@jupyter-widgets/base",
            "top": null,
            "grid_column": null,
            "overflow_y": null,
            "overflow_x": null,
            "grid_auto_flow": null,
            "grid_area": null,
            "grid_template_columns": null,
            "flex": null,
            "_model_name": "LayoutModel",
            "justify_items": null,
            "grid_row": null,
            "max_height": null,
            "align_content": null,
            "visibility": null,
            "align_self": null,
            "height": null,
            "min_height": null,
            "padding": null,
            "grid_auto_rows": null,
            "grid_gap": null,
            "max_width": null,
            "order": null,
            "_view_module_version": "1.2.0",
            "grid_template_areas": null,
            "object_position": null,
            "object_fit": null,
            "grid_auto_columns": null,
            "margin": null,
            "display": null,
            "left": null
          }
        },
        "b6215660ad6c40fdb28ff65795cf71f6": {
          "model_module": "@jupyter-widgets/controls",
          "model_name": "HBoxModel",
          "state": {
            "_view_name": "HBoxView",
            "_dom_classes": [],
            "_model_name": "HBoxModel",
            "_view_module": "@jupyter-widgets/controls",
            "_model_module_version": "1.5.0",
            "_view_count": null,
            "_view_module_version": "1.5.0",
            "box_style": "",
            "layout": "IPY_MODEL_64c809554fdf4103935e2e9034741cb5",
            "_model_module": "@jupyter-widgets/controls",
            "children": [
              "IPY_MODEL_81a57aeeabcc49b3b99a6c62d065a61e",
              "IPY_MODEL_2e41dec9e033409c9b36c44891606c37"
            ]
          }
        },
        "64c809554fdf4103935e2e9034741cb5": {
          "model_module": "@jupyter-widgets/base",
          "model_name": "LayoutModel",
          "state": {
            "_view_name": "LayoutView",
            "grid_template_rows": null,
            "right": null,
            "justify_content": null,
            "_view_module": "@jupyter-widgets/base",
            "overflow": null,
            "_model_module_version": "1.2.0",
            "_view_count": null,
            "flex_flow": null,
            "width": null,
            "min_width": null,
            "border": null,
            "align_items": null,
            "bottom": null,
            "_model_module": "@jupyter-widgets/base",
            "top": null,
            "grid_column": null,
            "overflow_y": null,
            "overflow_x": null,
            "grid_auto_flow": null,
            "grid_area": null,
            "grid_template_columns": null,
            "flex": null,
            "_model_name": "LayoutModel",
            "justify_items": null,
            "grid_row": null,
            "max_height": null,
            "align_content": null,
            "visibility": null,
            "align_self": null,
            "height": null,
            "min_height": null,
            "padding": null,
            "grid_auto_rows": null,
            "grid_gap": null,
            "max_width": null,
            "order": null,
            "_view_module_version": "1.2.0",
            "grid_template_areas": null,
            "object_position": null,
            "object_fit": null,
            "grid_auto_columns": null,
            "margin": null,
            "display": null,
            "left": null
          }
        },
        "81a57aeeabcc49b3b99a6c62d065a61e": {
          "model_module": "@jupyter-widgets/controls",
          "model_name": "FloatProgressModel",
          "state": {
            "_view_name": "ProgressView",
            "style": "IPY_MODEL_d608330067a646af99d86caadb4cb618",
            "_dom_classes": [],
            "description": "100%",
            "_model_name": "FloatProgressModel",
            "bar_style": "success",
            "max": 16,
            "_view_module": "@jupyter-widgets/controls",
            "_model_module_version": "1.5.0",
            "value": 16,
            "_view_count": null,
            "_view_module_version": "1.5.0",
            "orientation": "horizontal",
            "min": 0,
            "description_tooltip": null,
            "_model_module": "@jupyter-widgets/controls",
            "layout": "IPY_MODEL_f19423961dab4cd698a2b1ade69b335a"
          }
        },
        "2e41dec9e033409c9b36c44891606c37": {
          "model_module": "@jupyter-widgets/controls",
          "model_name": "HTMLModel",
          "state": {
            "_view_name": "HTMLView",
            "style": "IPY_MODEL_86c3acf601e64e7f92b7bb6f519318ed",
            "_dom_classes": [],
            "description": "",
            "_model_name": "HTMLModel",
            "placeholder": "​",
            "_view_module": "@jupyter-widgets/controls",
            "_model_module_version": "1.5.0",
            "value": " 16/16 [00:05&lt;00:00,  3.06it/s]",
            "_view_count": null,
            "_view_module_version": "1.5.0",
            "description_tooltip": null,
            "_model_module": "@jupyter-widgets/controls",
            "layout": "IPY_MODEL_ec2aa1c2888a4df28ba37b6f63d5c3b0"
          }
        },
        "d608330067a646af99d86caadb4cb618": {
          "model_module": "@jupyter-widgets/controls",
          "model_name": "ProgressStyleModel",
          "state": {
            "_view_name": "StyleView",
            "_model_name": "ProgressStyleModel",
            "description_width": "initial",
            "_view_module": "@jupyter-widgets/base",
            "_model_module_version": "1.5.0",
            "_view_count": null,
            "_view_module_version": "1.2.0",
            "bar_color": null,
            "_model_module": "@jupyter-widgets/controls"
          }
        },
        "f19423961dab4cd698a2b1ade69b335a": {
          "model_module": "@jupyter-widgets/base",
          "model_name": "LayoutModel",
          "state": {
            "_view_name": "LayoutView",
            "grid_template_rows": null,
            "right": null,
            "justify_content": null,
            "_view_module": "@jupyter-widgets/base",
            "overflow": null,
            "_model_module_version": "1.2.0",
            "_view_count": null,
            "flex_flow": null,
            "width": null,
            "min_width": null,
            "border": null,
            "align_items": null,
            "bottom": null,
            "_model_module": "@jupyter-widgets/base",
            "top": null,
            "grid_column": null,
            "overflow_y": null,
            "overflow_x": null,
            "grid_auto_flow": null,
            "grid_area": null,
            "grid_template_columns": null,
            "flex": null,
            "_model_name": "LayoutModel",
            "justify_items": null,
            "grid_row": null,
            "max_height": null,
            "align_content": null,
            "visibility": null,
            "align_self": null,
            "height": null,
            "min_height": null,
            "padding": null,
            "grid_auto_rows": null,
            "grid_gap": null,
            "max_width": null,
            "order": null,
            "_view_module_version": "1.2.0",
            "grid_template_areas": null,
            "object_position": null,
            "object_fit": null,
            "grid_auto_columns": null,
            "margin": null,
            "display": null,
            "left": null
          }
        },
        "86c3acf601e64e7f92b7bb6f519318ed": {
          "model_module": "@jupyter-widgets/controls",
          "model_name": "DescriptionStyleModel",
          "state": {
            "_view_name": "StyleView",
            "_model_name": "DescriptionStyleModel",
            "description_width": "",
            "_view_module": "@jupyter-widgets/base",
            "_model_module_version": "1.5.0",
            "_view_count": null,
            "_view_module_version": "1.2.0",
            "_model_module": "@jupyter-widgets/controls"
          }
        },
        "ec2aa1c2888a4df28ba37b6f63d5c3b0": {
          "model_module": "@jupyter-widgets/base",
          "model_name": "LayoutModel",
          "state": {
            "_view_name": "LayoutView",
            "grid_template_rows": null,
            "right": null,
            "justify_content": null,
            "_view_module": "@jupyter-widgets/base",
            "overflow": null,
            "_model_module_version": "1.2.0",
            "_view_count": null,
            "flex_flow": null,
            "width": null,
            "min_width": null,
            "border": null,
            "align_items": null,
            "bottom": null,
            "_model_module": "@jupyter-widgets/base",
            "top": null,
            "grid_column": null,
            "overflow_y": null,
            "overflow_x": null,
            "grid_auto_flow": null,
            "grid_area": null,
            "grid_template_columns": null,
            "flex": null,
            "_model_name": "LayoutModel",
            "justify_items": null,
            "grid_row": null,
            "max_height": null,
            "align_content": null,
            "visibility": null,
            "align_self": null,
            "height": null,
            "min_height": null,
            "padding": null,
            "grid_auto_rows": null,
            "grid_gap": null,
            "max_width": null,
            "order": null,
            "_view_module_version": "1.2.0",
            "grid_template_areas": null,
            "object_position": null,
            "object_fit": null,
            "grid_auto_columns": null,
            "margin": null,
            "display": null,
            "left": null
          }
        }
      }
    }
  },
  "cells": [
    {
      "cell_type": "markdown",
      "metadata": {
        "id": "view-in-github",
        "colab_type": "text"
      },
      "source": [
        "<a href=\"https://colab.research.google.com/github/sazio/Battleship/blob/master/Trajectories%26Levy.ipynb\" target=\"_parent\"><img src=\"https://colab.research.google.com/assets/colab-badge.svg\" alt=\"Open In Colab\"/></a>"
      ]
    },
    {
      "cell_type": "code",
      "metadata": {
        "id": "FK5ZV7l2iP3x"
      },
      "source": [
        "#!pip install traja"
      ],
      "execution_count": 3,
      "outputs": []
    },
    {
      "cell_type": "code",
      "metadata": {
        "id": "eyfxaivNiTHx"
      },
      "source": [
        "import numpy as np\n",
        "import pandas as pd \n",
        "import traja\n",
        "import glob\n",
        "import re\n",
        "from tqdm.notebook import tqdm\n",
        "import matplotlib.pyplot as plt"
      ],
      "execution_count": 149,
      "outputs": []
    },
    {
      "cell_type": "code",
      "metadata": {
        "colab": {
          "base_uri": "https://localhost:8080/"
        },
        "id": "1gItlbHdiTKY",
        "outputId": "d5dcdd7d-a98a-4e93-a349-dde9b88c9cfe"
      },
      "source": [
        "from google.colab import drive\n",
        "drive.mount('/content/drive')"
      ],
      "execution_count": 4,
      "outputs": [
        {
          "output_type": "stream",
          "text": [
            "Mounted at /content/drive\n"
          ],
          "name": "stdout"
        }
      ]
    },
    {
      "cell_type": "code",
      "metadata": {
        "id": "R52LhDyDiO6v"
      },
      "source": [
        "path_to_files = \"drive/MyDrive/JamesSimoneSpatial/TrackFilesCue/CueCsv/Track/\"\n",
        "\n",
        "trackFiles = []\n",
        "trackFiles = sorted(glob.glob(path_to_files + '*Track.csv'))"
      ],
      "execution_count": 136,
      "outputs": []
    },
    {
      "cell_type": "code",
      "metadata": {
        "id": "s-y4kpPcigNA"
      },
      "source": [
        "probeFiles = []\n",
        "\n",
        "# Filtering probe trials \n",
        "# if probeFilter = True, probetrials are not used in the future statistics\n",
        "# if probeFilter = False, probetrials are going to take part in the stats\n",
        "probeFilter = True \n",
        "\n",
        "if probeFilter == True:\n",
        "    regExpr = re.compile(r'p_Track')\n",
        "    probeFiles = list(filter(lambda i : regExpr.search(i), trackFiles))\n",
        "    trackFiles = list(filter(lambda i : not regExpr.search(i), trackFiles))\n",
        "    \n",
        "else : \n",
        "    trackFiles = trackFiles "
      ],
      "execution_count": 138,
      "outputs": []
    },
    {
      "cell_type": "code",
      "metadata": {
        "colab": {
          "base_uri": "https://localhost:8080/",
          "height": 66,
          "referenced_widgets": [
            "fadca3daca6b44a796b24e6d0728177a",
            "d8511b65df66497eb7566ad74276cbce",
            "22475db92f2f49c0b425e478116c9ac0",
            "cc55339d824e422c85850004ff90ddd1",
            "317303da81724c308b72f167ed6de2bb",
            "39e1b03acbbd4093b4e9bbc7d8016924",
            "b378429a73924667bdd5ae348fb8ecb9",
            "b80e6990bcdd471b9f8f0f601c73aa43"
          ]
        },
        "id": "9fRjQWR7ithY",
        "outputId": "4871f6ce-bfce-4b60-a911-2dafece7d288"
      },
      "source": [
        "trackData = []\n",
        "for i in tqdm(range(0,len(trackFiles))) : \n",
        "    trackData.append(pd.read_csv(trackFiles[i], names = [\"time\", \"x\", \"y\", \"HeadAngle\",\"EODRate\",\"DistanceXEODPulse\",\n",
        "                                                         \"HeadSpeed\", \"DistanceXESCAN\"]))\n",
        "    \"\"\"_Track.csv files:\n",
        "    Columns: T(s), X(m), Y(m), A(deg), R(Hz), D(m), V(m/s), S(m):\n",
        "    T: camera frame time\n",
        "    X: x coordinate of the head tip @ grid frame of reference\n",
        "    Y: y coordinate of the head tip @ grid frame of reference\n",
        "    A: head orientation\n",
        "    R: EOD rate\n",
        "    D: Distance per EOD pulse (=1/sampling_density)\n",
        "    V: Head speed (m/s, signed)\n",
        "    S: Distance per Escan (=1/escan_density)\"\"\""
      ],
      "execution_count": 139,
      "outputs": [
        {
          "output_type": "display_data",
          "data": {
            "application/vnd.jupyter.widget-view+json": {
              "model_id": "fadca3daca6b44a796b24e6d0728177a",
              "version_minor": 0,
              "version_major": 2
            },
            "text/plain": [
              "HBox(children=(FloatProgress(value=0.0, max=199.0), HTML(value='')))"
            ]
          },
          "metadata": {
            "tags": []
          }
        },
        {
          "output_type": "stream",
          "text": [
            "\n"
          ],
          "name": "stdout"
        }
      ]
    },
    {
      "cell_type": "code",
      "metadata": {
        "colab": {
          "base_uri": "https://localhost:8080/",
          "height": 66,
          "referenced_widgets": [
            "4ba7daa0712e4d4380b4ba1d2d7daccc",
            "56c86608daab461da11983bac65f1cb7",
            "11d7c80bd863473fac0a0397fd39c082",
            "2716c68ad8f041419a5e3ec47933b007",
            "80ade2c7a90343c18a6309e61de2f516",
            "3d87a21c0da0482baed8560151c4aa5f",
            "5648f586a0da4476b1e16caf72c8f837",
            "fca052343fb24ae8aaba7b0b42d0f857"
          ]
        },
        "id": "_3eeK1VKjCVb",
        "outputId": "38c263a6-a1ac-4bc7-ac9f-a02bfea9980b"
      },
      "source": [
        "# Creating list of probe Data as list of pandas dataframes \n",
        "probeData = []\n",
        "for i in tqdm(range(0,len(probeFiles))) : \n",
        "    probeData.append(pd.read_csv(probeFiles[i], names = [\"time\", \"x\", \"y\", \"HeadAngle\",\"EODRate\",\"DistanceXEODPulse\",\n",
        "                                                         \"HeadSpeed\", \"DistanceXESCAN\"]))"
      ],
      "execution_count": 140,
      "outputs": [
        {
          "output_type": "display_data",
          "data": {
            "application/vnd.jupyter.widget-view+json": {
              "model_id": "4ba7daa0712e4d4380b4ba1d2d7daccc",
              "version_minor": 0,
              "version_major": 2
            },
            "text/plain": [
              "HBox(children=(FloatProgress(value=0.0, max=14.0), HTML(value='')))"
            ]
          },
          "metadata": {
            "tags": []
          }
        },
        {
          "output_type": "stream",
          "text": [
            "\n"
          ],
          "name": "stdout"
        }
      ]
    },
    {
      "cell_type": "code",
      "metadata": {
        "colab": {
          "base_uri": "https://localhost:8080/",
          "height": 66,
          "referenced_widgets": [
            "46b1c5b83b68443686d143c334af85ed",
            "c394965951e343b3b8a99b93d1c98e2b",
            "484f211d639a406eb0bd5856994dad42",
            "7f5b76ba50e440b29bdd61aaf99a69f3",
            "2baaa5e7a3684071be434b8c28125207",
            "7bdd6a8c208b46b9ae454eb5d76bdb42",
            "c024e124116447879dcdba223f4a5271",
            "27ac1b585b7745f8a17d3d835e4a232c"
          ]
        },
        "id": "sRRuBbVplEgm",
        "outputId": "6594b117-1094-4dc1-9ae7-3a05d88c3524"
      },
      "source": [
        "traja_steps = []\n",
        "for i in tqdm(range(0, len(trackFiles[:19]))):\n",
        "\n",
        "  trajaDF = traja.TrajaDataFrame(trackData[i])\n",
        "  pivot = traja.step_lengths(trajaDF).dropna()\n",
        "  pivot = pivot[pivot!= 0]\n",
        "\n",
        "  traja_steps.append(pivot)"
      ],
      "execution_count": 141,
      "outputs": [
        {
          "output_type": "display_data",
          "data": {
            "application/vnd.jupyter.widget-view+json": {
              "model_id": "46b1c5b83b68443686d143c334af85ed",
              "version_minor": 0,
              "version_major": 2
            },
            "text/plain": [
              "HBox(children=(FloatProgress(value=0.0, max=19.0), HTML(value='')))"
            ]
          },
          "metadata": {
            "tags": []
          }
        },
        {
          "output_type": "stream",
          "text": [
            "\n"
          ],
          "name": "stdout"
        }
      ]
    },
    {
      "cell_type": "code",
      "metadata": {
        "colab": {
          "base_uri": "https://localhost:8080/",
          "height": 66,
          "referenced_widgets": [
            "b6215660ad6c40fdb28ff65795cf71f6",
            "64c809554fdf4103935e2e9034741cb5",
            "81a57aeeabcc49b3b99a6c62d065a61e",
            "2e41dec9e033409c9b36c44891606c37",
            "d608330067a646af99d86caadb4cb618",
            "f19423961dab4cd698a2b1ade69b335a",
            "86c3acf601e64e7f92b7bb6f519318ed",
            "ec2aa1c2888a4df28ba37b6f63d5c3b0"
          ]
        },
        "id": "UGh9h5Tei5P0",
        "outputId": "920be688-328c-46a2-90af-9b6120eb79e8"
      },
      "source": [
        "early_steps = traja_steps[0]\n",
        "\n",
        "for i in tqdm(range(1,17)):\n",
        "  early_steps = early_steps.append(traja_steps[i], ignore_index= True)"
      ],
      "execution_count": 146,
      "outputs": [
        {
          "output_type": "display_data",
          "data": {
            "application/vnd.jupyter.widget-view+json": {
              "model_id": "b6215660ad6c40fdb28ff65795cf71f6",
              "version_minor": 0,
              "version_major": 2
            },
            "text/plain": [
              "HBox(children=(FloatProgress(value=0.0, max=16.0), HTML(value='')))"
            ]
          },
          "metadata": {
            "tags": []
          }
        },
        {
          "output_type": "stream",
          "text": [
            "\n"
          ],
          "name": "stdout"
        }
      ]
    },
    {
      "cell_type": "code",
      "metadata": {
        "id": "2YnokQn9p77y"
      },
      "source": [
        "import scipy.stats as st"
      ],
      "execution_count": 153,
      "outputs": []
    },
    {
      "cell_type": "code",
      "metadata": {
        "colab": {
          "base_uri": "https://localhost:8080/",
          "height": 374
        },
        "id": "V_FPlJ6C0Z7H",
        "outputId": "af121e03-53af-422e-ecf4-df49d6483a73"
      },
      "source": [
        "plt.figure(figsize = (12,6))\n",
        "counts, bins, bars = plt.hist(early_steps, bins = int(np.sqrt(early_steps.shape[0])))\n",
        "plt.grid(alpha = 0.5)"
      ],
      "execution_count": 186,
      "outputs": [
        {
          "output_type": "display_data",
          "data": {
            "image/png": "[encoded data removed]",
            "text/plain": [
              "<Figure size 864x432 with 1 Axes>"
            ]
          },
          "metadata": {
            "tags": [],
            "needs_background": "light"
          }
        }
      ]
    },
    {
      "cell_type": "code",
      "metadata": {
        "colab": {
          "base_uri": "https://localhost:8080/"
        },
        "id": "jFzU5OVi1Ol4",
        "outputId": "decda497-294d-4525-cd8d-1ec05df2bcbc"
      },
      "source": [
        "pconv = lambda alpha, beta, mu, sigma: (alpha, beta, mu - sigma * beta * np.tan(np.pi * alpha / 2.0), sigma)\n",
        "alpha, beta, mu, sigma = pconv(*st.levy_stable._fitstart(counts))\n",
        "print(alpha, beta, mu, sigma)"
      ],
      "execution_count": 204,
      "outputs": [
        {
          "output_type": "stream",
          "text": [
            "0.8421482305851353 1.0 -129.30318029818656 32.734725714652726\n"
          ],
          "name": "stdout"
        }
      ]
    },
    {
      "cell_type": "code",
      "metadata": {
        "id": "vElleKEv8AWh"
      },
      "source": [
        "early_steps = early_steps*10000"
      ],
      "execution_count": 228,
      "outputs": []
    },
    {
      "cell_type": "code",
      "metadata": {
        "colab": {
          "base_uri": "https://localhost:8080/",
          "height": 513
        },
        "id": "KnLYmhdh1ytZ",
        "outputId": "50831ed3-55d1-4802-e60f-ff1e1c37f51c"
      },
      "source": [
        "plt.figure(figsize = (15,8))\n",
        "#n, bins, patches = plt.hist(x, int(np.sqrt(x.shape[0])), density = True, facecolor='green', alpha=0.55)\n",
        "counts, bins, bars = plt.hist(early_steps, bins = int(np.sqrt(early_steps.shape[0])), density = True, facecolor='green', alpha=0.55)\n",
        "# add a 'best fit' line\n",
        "#y = norm.pdf( bins, *norm._fitstart(bins))\n",
        "y = st.levy_stable.pdf(bins,*st.levy_stable._fitstart(bins))\n",
        "\n",
        "l = plt.plot(bins, y, 'r--', linewidth=2)\n",
        "\n",
        "\n",
        "plt.title(\"Flight Length distribution\")\n",
        "plt.xlabel('x (cm)')\n",
        "plt.ylabel('')\n",
        "\n",
        "plt.grid(True)\n",
        "\n",
        "plt.show()"
      ],
      "execution_count": 229,
      "outputs": [
        {
          "output_type": "display_data",
          "data": {
            "image/png": "[encoded data removed]",
            "text/plain": [
              "<Figure size 1080x576 with 1 Axes>"
            ]
          },
          "metadata": {
            "tags": [],
            "needs_background": "light"
          }
        }
      ]
    },
    {
      "cell_type": "code",
      "metadata": {
        "id": "v8VILD694Q4f"
      },
      "source": [
        "def levy_distrib(x,mu = 2,c = 1):\n",
        "  return np.sqrt(c/2*np.pi)*np.exp(-(c/(2*(x-mu))))/((x-mu)*np.sqrt(x-mu))"
      ],
      "execution_count": 236,
      "outputs": []
    },
    {
      "cell_type": "code",
      "metadata": {
        "id": "yhS-Ve4h64Ce"
      },
      "source": [
        "from scipy.optimize import curve_fit "
      ],
      "execution_count": 237,
      "outputs": []
    },
    {
      "cell_type": "code",
      "metadata": {
        "colab": {
          "base_uri": "https://localhost:8080/",
          "height": 316
        },
        "id": "Tct1-_fx6FVS",
        "outputId": "fd21d924-d572-40a3-bb30-d2577546e2c3"
      },
      "source": [
        ""
      ],
      "execution_count": 238,
      "outputs": [
        {
          "output_type": "stream",
          "text": [
            "/usr/local/lib/python3.6/dist-packages/ipykernel_launcher.py:2: RuntimeWarning: invalid value encountered in sqrt\n",
            "  \n"
          ],
          "name": "stderr"
        },
        {
          "output_type": "execute_result",
          "data": {
            "text/plain": [
              "[<matplotlib.lines.Line2D at 0x7f939d7db780>]"
            ]
          },
          "metadata": {
            "tags": []
          },
          "execution_count": 238
        },
        {
          "output_type": "display_data",
          "data": {
            "image/png": "[encoded data removed]",
            "text/plain": [
              "<Figure size 432x288 with 1 Axes>"
            ]
          },
          "metadata": {
            "tags": [],
            "needs_background": "light"
          }
        }
      ]
    },
    {
      "cell_type": "code",
      "metadata": {
        "colab": {
          "base_uri": "https://localhost:8080/"
        },
        "id": "SVcNhkzG62Iy",
        "outputId": "6f2a7b1e-786c-42a0-e407-7824cebf6513"
      },
      "source": [
        "bins"
      ],
      "execution_count": 222,
      "outputs": [
        {
          "output_type": "execute_result",
          "data": {
            "text/plain": [
              "array([1.00000000e-05, 2.09639600e-05, 3.19279200e-05, 4.28918799e-05,\n",
              "       5.38558399e-05, 6.48197999e-05, 7.57837599e-05, 8.67477198e-05,\n",
              "       9.77116798e-05, 1.08675640e-04, 1.19639600e-04, 1.30603560e-04,\n",
              "       1.41567520e-04, 1.52531480e-04, 1.63495440e-04, 1.74459400e-04,\n",
              "       1.85423360e-04, 1.96387320e-04, 2.07351280e-04, 2.18315240e-04,\n",
              "       2.29279200e-04, 2.40243160e-04, 2.51207120e-04, 2.62171079e-04,\n",
              "       2.73135039e-04, 2.84098999e-04, 2.95062959e-04, 3.06026919e-04,\n",
              "       3.16990879e-04, 3.27954839e-04, 3.38918799e-04, 3.49882759e-04,\n",
              "       3.60846719e-04, 3.71810679e-04, 3.82774639e-04, 3.93738599e-04,\n",
              "       4.04702559e-04, 4.15666519e-04, 4.26630479e-04, 4.37594439e-04,\n",
              "       4.48558399e-04, 4.59522359e-04, 4.70486319e-04, 4.81450279e-04,\n",
              "       4.92414239e-04, 5.03378199e-04, 5.14342159e-04, 5.25306119e-04,\n",
              "       5.36270079e-04, 5.47234039e-04, 5.58197999e-04, 5.69161959e-04,\n",
              "       5.80125919e-04, 5.91089879e-04, 6.02053839e-04, 6.13017799e-04,\n",
              "       6.23981759e-04, 6.34945719e-04, 6.45909679e-04, 6.56873639e-04,\n",
              "       6.67837599e-04, 6.78801559e-04, 6.89765519e-04, 7.00729479e-04,\n",
              "       7.11693439e-04, 7.22657399e-04, 7.33621359e-04, 7.44585319e-04,\n",
              "       7.55549278e-04, 7.66513238e-04, 7.77477198e-04, 7.88441158e-04,\n",
              "       7.99405118e-04, 8.10369078e-04, 8.21333038e-04, 8.32296998e-04,\n",
              "       8.43260958e-04, 8.54224918e-04, 8.65188878e-04, 8.76152838e-04,\n",
              "       8.87116798e-04, 8.98080758e-04, 9.09044718e-04, 9.20008678e-04,\n",
              "       9.30972638e-04, 9.41936598e-04, 9.52900558e-04, 9.63864518e-04,\n",
              "       9.74828478e-04, 9.85792438e-04, 9.96756398e-04, 1.00772036e-03,\n",
              "       1.01868432e-03, 1.02964828e-03, 1.04061224e-03, 1.05157620e-03,\n",
              "       1.06254016e-03, 1.07350412e-03, 1.08446808e-03, 1.09543204e-03,\n",
              "       1.10639600e-03, 1.11735996e-03, 1.12832392e-03, 1.13928788e-03,\n",
              "       1.15025184e-03, 1.16121580e-03, 1.17217976e-03, 1.18314372e-03,\n",
              "       1.19410768e-03, 1.20507164e-03, 1.21603560e-03, 1.22699956e-03,\n",
              "       1.23796352e-03, 1.24892748e-03, 1.25989144e-03, 1.27085540e-03,\n",
              "       1.28181936e-03, 1.29278332e-03, 1.30374728e-03, 1.31471124e-03,\n",
              "       1.32567520e-03, 1.33663916e-03, 1.34760312e-03, 1.35856708e-03,\n",
              "       1.36953104e-03, 1.38049500e-03, 1.39145896e-03, 1.40242292e-03,\n",
              "       1.41338688e-03, 1.42435084e-03, 1.43531480e-03, 1.44627876e-03,\n",
              "       1.45724272e-03, 1.46820668e-03, 1.47917064e-03, 1.49013460e-03,\n",
              "       1.50109856e-03, 1.51206252e-03, 1.52302648e-03, 1.53399044e-03,\n",
              "       1.54495440e-03, 1.55591836e-03, 1.56688232e-03, 1.57784628e-03,\n",
              "       1.58881024e-03, 1.59977420e-03, 1.61073816e-03, 1.62170212e-03,\n",
              "       1.63266608e-03, 1.64363004e-03, 1.65459400e-03, 1.66555796e-03,\n",
              "       1.67652192e-03, 1.68748588e-03, 1.69844984e-03, 1.70941380e-03,\n",
              "       1.72037776e-03, 1.73134172e-03, 1.74230568e-03, 1.75326964e-03,\n",
              "       1.76423360e-03, 1.77519756e-03, 1.78616152e-03, 1.79712548e-03,\n",
              "       1.80808944e-03, 1.81905340e-03, 1.83001736e-03, 1.84098132e-03,\n",
              "       1.85194528e-03, 1.86290924e-03, 1.87387320e-03, 1.88483716e-03,\n",
              "       1.89580112e-03, 1.90676508e-03, 1.91772904e-03, 1.92869300e-03,\n",
              "       1.93965696e-03, 1.95062092e-03, 1.96158488e-03, 1.97254884e-03,\n",
              "       1.98351280e-03, 1.99447676e-03, 2.00544072e-03, 2.01640468e-03,\n",
              "       2.02736864e-03, 2.03833260e-03, 2.04929656e-03, 2.06026052e-03,\n",
              "       2.07122448e-03, 2.08218844e-03, 2.09315240e-03, 2.10411636e-03,\n",
              "       2.11508032e-03, 2.12604428e-03, 2.13700824e-03, 2.14797220e-03,\n",
              "       2.15893616e-03, 2.16990012e-03, 2.18086408e-03, 2.19182804e-03,\n",
              "       2.20279200e-03, 2.21375596e-03, 2.22471992e-03, 2.23568388e-03,\n",
              "       2.24664784e-03, 2.25761180e-03, 2.26857576e-03, 2.27953972e-03,\n",
              "       2.29050368e-03, 2.30146764e-03, 2.31243160e-03, 2.32339556e-03,\n",
              "       2.33435952e-03, 2.34532348e-03, 2.35628744e-03, 2.36725140e-03,\n",
              "       2.37821536e-03, 2.38917932e-03, 2.40014328e-03, 2.41110724e-03,\n",
              "       2.42207120e-03, 2.43303516e-03, 2.44399912e-03, 2.45496308e-03,\n",
              "       2.46592703e-03, 2.47689099e-03, 2.48785495e-03, 2.49881891e-03,\n",
              "       2.50978287e-03, 2.52074683e-03, 2.53171079e-03, 2.54267475e-03,\n",
              "       2.55363871e-03, 2.56460267e-03, 2.57556663e-03, 2.58653059e-03,\n",
              "       2.59749455e-03, 2.60845851e-03, 2.61942247e-03, 2.63038643e-03,\n",
              "       2.64135039e-03, 2.65231435e-03, 2.66327831e-03, 2.67424227e-03,\n",
              "       2.68520623e-03, 2.69617019e-03, 2.70713415e-03, 2.71809811e-03,\n",
              "       2.72906207e-03, 2.74002603e-03, 2.75098999e-03, 2.76195395e-03,\n",
              "       2.77291791e-03, 2.78388187e-03, 2.79484583e-03, 2.80580979e-03,\n",
              "       2.81677375e-03, 2.82773771e-03, 2.83870167e-03, 2.84966563e-03,\n",
              "       2.86062959e-03, 2.87159355e-03, 2.88255751e-03, 2.89352147e-03,\n",
              "       2.90448543e-03, 2.91544939e-03, 2.92641335e-03, 2.93737731e-03,\n",
              "       2.94834127e-03, 2.95930523e-03, 2.97026919e-03, 2.98123315e-03,\n",
              "       2.99219711e-03, 3.00316107e-03, 3.01412503e-03, 3.02508899e-03,\n",
              "       3.03605295e-03, 3.04701691e-03, 3.05798087e-03, 3.06894483e-03,\n",
              "       3.07990879e-03, 3.09087275e-03, 3.10183671e-03, 3.11280067e-03,\n",
              "       3.12376463e-03, 3.13472859e-03, 3.14569255e-03, 3.15665651e-03,\n",
              "       3.16762047e-03, 3.17858443e-03, 3.18954839e-03, 3.20051235e-03,\n",
              "       3.21147631e-03, 3.22244027e-03, 3.23340423e-03, 3.24436819e-03,\n",
              "       3.25533215e-03, 3.26629611e-03, 3.27726007e-03, 3.28822403e-03,\n",
              "       3.29918799e-03, 3.31015195e-03, 3.32111591e-03, 3.33207987e-03,\n",
              "       3.34304383e-03, 3.35400779e-03, 3.36497175e-03, 3.37593571e-03,\n",
              "       3.38689967e-03, 3.39786363e-03, 3.40882759e-03, 3.41979155e-03,\n",
              "       3.43075551e-03, 3.44171947e-03, 3.45268343e-03, 3.46364739e-03,\n",
              "       3.47461135e-03, 3.48557531e-03, 3.49653927e-03, 3.50750323e-03,\n",
              "       3.51846719e-03, 3.52943115e-03, 3.54039511e-03, 3.55135907e-03,\n",
              "       3.56232303e-03, 3.57328699e-03, 3.58425095e-03, 3.59521491e-03,\n",
              "       3.60617887e-03, 3.61714283e-03, 3.62810679e-03, 3.63907075e-03,\n",
              "       3.65003471e-03, 3.66099867e-03, 3.67196263e-03, 3.68292659e-03,\n",
              "       3.69389055e-03, 3.70485451e-03, 3.71581847e-03, 3.72678243e-03,\n",
              "       3.73774639e-03, 3.74871035e-03, 3.75967431e-03, 3.77063827e-03,\n",
              "       3.78160223e-03, 3.79256619e-03, 3.80353015e-03, 3.81449411e-03,\n",
              "       3.82545807e-03, 3.83642203e-03, 3.84738599e-03, 3.85834995e-03,\n",
              "       3.86931391e-03, 3.88027787e-03, 3.89124183e-03, 3.90220579e-03,\n",
              "       3.91316975e-03, 3.92413371e-03, 3.93509767e-03, 3.94606163e-03,\n",
              "       3.95702559e-03, 3.96798955e-03, 3.97895351e-03, 3.98991747e-03,\n",
              "       4.00088143e-03, 4.01184539e-03, 4.02280935e-03, 4.03377331e-03,\n",
              "       4.04473727e-03, 4.05570123e-03, 4.06666519e-03, 4.07762915e-03,\n",
              "       4.08859311e-03, 4.09955707e-03, 4.11052103e-03, 4.12148499e-03,\n",
              "       4.13244895e-03, 4.14341291e-03, 4.15437687e-03, 4.16534083e-03,\n",
              "       4.17630479e-03, 4.18726875e-03, 4.19823271e-03, 4.20919667e-03,\n",
              "       4.22016063e-03, 4.23112459e-03, 4.24208855e-03, 4.25305251e-03,\n",
              "       4.26401647e-03, 4.27498043e-03, 4.28594439e-03, 4.29690835e-03,\n",
              "       4.30787231e-03, 4.31883627e-03, 4.32980023e-03, 4.34076419e-03,\n",
              "       4.35172815e-03, 4.36269211e-03, 4.37365607e-03, 4.38462003e-03,\n",
              "       4.39558399e-03, 4.40654795e-03, 4.41751191e-03, 4.42847587e-03,\n",
              "       4.43943983e-03, 4.45040379e-03, 4.46136775e-03, 4.47233171e-03,\n",
              "       4.48329567e-03, 4.49425963e-03, 4.50522359e-03, 4.51618755e-03,\n",
              "       4.52715151e-03, 4.53811547e-03, 4.54907943e-03, 4.56004339e-03,\n",
              "       4.57100735e-03, 4.58197131e-03, 4.59293527e-03, 4.60389923e-03,\n",
              "       4.61486319e-03, 4.62582715e-03, 4.63679111e-03, 4.64775507e-03,\n",
              "       4.65871903e-03, 4.66968299e-03, 4.68064695e-03, 4.69161091e-03,\n",
              "       4.70257487e-03, 4.71353883e-03, 4.72450279e-03, 4.73546675e-03,\n",
              "       4.74643071e-03, 4.75739467e-03, 4.76835863e-03, 4.77932259e-03,\n",
              "       4.79028655e-03, 4.80125051e-03, 4.81221447e-03, 4.82317843e-03,\n",
              "       4.83414239e-03, 4.84510635e-03, 4.85607031e-03, 4.86703427e-03,\n",
              "       4.87799823e-03, 4.88896219e-03, 4.89992615e-03, 4.91089011e-03,\n",
              "       4.92185407e-03, 4.93281803e-03, 4.94378199e-03, 4.95474595e-03,\n",
              "       4.96570991e-03, 4.97667387e-03, 4.98763783e-03, 4.99860179e-03,\n",
              "       5.00956575e-03, 5.02052971e-03, 5.03149367e-03, 5.04245763e-03,\n",
              "       5.05342159e-03, 5.06438555e-03, 5.07534951e-03, 5.08631347e-03,\n",
              "       5.09727743e-03, 5.10824139e-03, 5.11920535e-03, 5.13016931e-03,\n",
              "       5.14113327e-03, 5.15209723e-03, 5.16306119e-03, 5.17402515e-03,\n",
              "       5.18498911e-03, 5.19595307e-03, 5.20691703e-03, 5.21788099e-03,\n",
              "       5.22884495e-03, 5.23980891e-03, 5.25077287e-03, 5.26173683e-03,\n",
              "       5.27270079e-03, 5.28366475e-03, 5.29462871e-03, 5.30559267e-03,\n",
              "       5.31655663e-03, 5.32752059e-03, 5.33848455e-03, 5.34944851e-03,\n",
              "       5.36041247e-03, 5.37137643e-03, 5.38234039e-03, 5.39330435e-03,\n",
              "       5.40426831e-03, 5.41523227e-03, 5.42619623e-03, 5.43716019e-03,\n",
              "       5.44812415e-03, 5.45908811e-03, 5.47005207e-03, 5.48101603e-03,\n",
              "       5.49197999e-03, 5.50294395e-03, 5.51390791e-03, 5.52487187e-03,\n",
              "       5.53583583e-03, 5.54679979e-03, 5.55776375e-03, 5.56872771e-03,\n",
              "       5.57969167e-03, 5.59065563e-03, 5.60161959e-03, 5.61258355e-03,\n",
              "       5.62354751e-03, 5.63451147e-03, 5.64547543e-03, 5.65643939e-03,\n",
              "       5.66740335e-03, 5.67836731e-03, 5.68933127e-03, 5.70029523e-03,\n",
              "       5.71125919e-03, 5.72222315e-03, 5.73318711e-03, 5.74415107e-03,\n",
              "       5.75511503e-03, 5.76607899e-03, 5.77704295e-03, 5.78800691e-03,\n",
              "       5.79897087e-03, 5.80993483e-03, 5.82089879e-03, 5.83186275e-03,\n",
              "       5.84282671e-03, 5.85379067e-03, 5.86475463e-03, 5.87571859e-03,\n",
              "       5.88668255e-03, 5.89764651e-03, 5.90861047e-03, 5.91957443e-03,\n",
              "       5.93053839e-03, 5.94150235e-03, 5.95246631e-03, 5.96343027e-03,\n",
              "       5.97439423e-03, 5.98535819e-03, 5.99632215e-03, 6.00728611e-03,\n",
              "       6.01825007e-03, 6.02921403e-03, 6.04017799e-03, 6.05114195e-03,\n",
              "       6.06210591e-03, 6.07306987e-03, 6.08403383e-03, 6.09499779e-03,\n",
              "       6.10596175e-03, 6.11692571e-03, 6.12788967e-03, 6.13885363e-03,\n",
              "       6.14981759e-03, 6.16078155e-03, 6.17174551e-03, 6.18270947e-03,\n",
              "       6.19367343e-03, 6.20463739e-03, 6.21560135e-03, 6.22656531e-03,\n",
              "       6.23752927e-03, 6.24849323e-03, 6.25945719e-03, 6.27042115e-03,\n",
              "       6.28138511e-03, 6.29234907e-03, 6.30331303e-03, 6.31427699e-03,\n",
              "       6.32524095e-03, 6.33620491e-03, 6.34716887e-03, 6.35813283e-03,\n",
              "       6.36909679e-03, 6.38006075e-03, 6.39102471e-03, 6.40198867e-03,\n",
              "       6.41295263e-03, 6.42391659e-03, 6.43488055e-03, 6.44584451e-03,\n",
              "       6.45680847e-03, 6.46777243e-03, 6.47873639e-03, 6.48970035e-03,\n",
              "       6.50066431e-03, 6.51162827e-03, 6.52259223e-03, 6.53355619e-03,\n",
              "       6.54452015e-03, 6.55548411e-03, 6.56644807e-03, 6.57741203e-03,\n",
              "       6.58837599e-03, 6.59933995e-03, 6.61030391e-03, 6.62126787e-03,\n",
              "       6.63223183e-03, 6.64319579e-03, 6.65415975e-03, 6.66512371e-03,\n",
              "       6.67608767e-03, 6.68705163e-03, 6.69801559e-03, 6.70897955e-03,\n",
              "       6.71994351e-03, 6.73090747e-03, 6.74187143e-03, 6.75283539e-03,\n",
              "       6.76379935e-03, 6.77476331e-03, 6.78572727e-03, 6.79669123e-03,\n",
              "       6.80765519e-03, 6.81861915e-03, 6.82958311e-03, 6.84054707e-03,\n",
              "       6.85151103e-03, 6.86247499e-03, 6.87343895e-03, 6.88440291e-03,\n",
              "       6.89536687e-03, 6.90633083e-03, 6.91729479e-03, 6.92825875e-03,\n",
              "       6.93922271e-03, 6.95018667e-03, 6.96115063e-03, 6.97211459e-03,\n",
              "       6.98307855e-03, 6.99404251e-03, 7.00500647e-03, 7.01597043e-03,\n",
              "       7.02693439e-03, 7.03789835e-03, 7.04886231e-03, 7.05982627e-03,\n",
              "       7.07079023e-03, 7.08175419e-03, 7.09271815e-03, 7.10368211e-03,\n",
              "       7.11464607e-03, 7.12561003e-03, 7.13657399e-03, 7.14753795e-03,\n",
              "       7.15850191e-03, 7.16946587e-03, 7.18042983e-03, 7.19139379e-03,\n",
              "       7.20235775e-03, 7.21332171e-03, 7.22428567e-03, 7.23524963e-03,\n",
              "       7.24621359e-03, 7.25717755e-03, 7.26814151e-03, 7.27910547e-03,\n",
              "       7.29006943e-03, 7.30103339e-03, 7.31199735e-03, 7.32296131e-03,\n",
              "       7.33392527e-03, 7.34488923e-03, 7.35585319e-03, 7.36681714e-03,\n",
              "       7.37778110e-03, 7.38874506e-03, 7.39970902e-03, 7.41067298e-03,\n",
              "       7.42163694e-03, 7.43260090e-03, 7.44356486e-03, 7.45452882e-03])"
            ]
          },
          "metadata": {
            "tags": []
          },
          "execution_count": 222
        }
      ]
    },
    {
      "cell_type": "code",
      "metadata": {
        "id": "CuL_Yx9x7mel"
      },
      "source": [
        ""
      ],
      "execution_count": null,
      "outputs": []
    }
  ]
}